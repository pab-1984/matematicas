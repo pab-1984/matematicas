{
 "cells": [
  {
   "cell_type": "markdown",
   "id": "e55cd6b7",
   "metadata": {},
   "source": [
    "***Hola Calculo***\n",
    "\n",
    "#Derivate \n",
    "\n",
    "First order derivative : $$f'(x)$$ \n",
    "K-th order derivative  : $$f^{(k)}(x)$$\n",
    "Partial firt order derivative\t: $$\\frac{\\partial f}{\\partial x}$$\n",
    "Partial k-th order derivative\t: $$\\frac{\\partial^{k} f}{\\partial x^k}$$"
   ]
  },
  {
   "cell_type": "markdown",
   "id": "42e2268e",
   "metadata": {},
   "source": [
    "#Limit $\\lim$\n",
    "Limit at plus infinity\t: $$\\lim_{x \\to +\\infty} f(x)$$ \n",
    "Limit at minus infinity\t: $$\\lim_{x \\to -\\infty} f(x)$$\t\n",
    "Limit at $\\alpha$  : $$\\lim_{x \\to \\alpha} f(x)$$\n",
    "\n",
    "Max : $$\\max_{x \\in [a,b]}f(x)$$\t\n",
    "Min : $$\\min_{x \\in [\\alpha,\\beta]}f(x)$$\t\n",
    "Sup : $$\\sup_{x \\in \\mathbb{R}}f(x)$$\t\n",
    "Inf : $$\\inf_{x > s}f(x)$$\t\n"
   ]
  },
  {
   "cell_type": "code",
   "execution_count": null,
   "id": "41938fb5",
   "metadata": {},
   "outputs": [],
   "source": []
  },
  {
   "cell_type": "code",
   "execution_count": null,
   "id": "2758fa8c",
   "metadata": {},
   "outputs": [],
   "source": []
  }
 ],
 "metadata": {
  "kernelspec": {
   "display_name": "Python 3 (ipykernel)",
   "language": "python",
   "name": "python3"
  },
  "language_info": {
   "codemirror_mode": {
    "name": "ipython",
    "version": 3
   },
   "file_extension": ".py",
   "mimetype": "text/x-python",
   "name": "python",
   "nbconvert_exporter": "python",
   "pygments_lexer": "ipython3",
   "version": "3.9.7"
  }
 },
 "nbformat": 4,
 "nbformat_minor": 5
}
