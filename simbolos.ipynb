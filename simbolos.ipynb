#Write Markdown and LaTeX Math Equation in The Jupyter Notebook
[Read this article for more details.](https://towardsdatascience.com/write-markdown-latex-in-the-jupyter-notebook-10985edb91fd "Medium")
                                     
